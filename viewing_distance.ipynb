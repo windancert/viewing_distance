{
 "cells": [
  {
   "cell_type": "code",
   "execution_count": 19,
   "metadata": {},
   "outputs": [],
   "source": [
    "# Height of the observer (in metres) is how high the eyes of the observer are above sea/water level\n",
    "height_of_observer = 1.7\n",
    "\n",
    "# Distance of object (in meters) we want to view \n",
    "distance_to_object = 7000"
   ]
  },
  {
   "cell_type": "code",
   "execution_count": 20,
   "metadata": {},
   "outputs": [],
   "source": [
    "from math import acos, cos\n",
    "\n",
    "# Radius of the earth (in metres)\n",
    "radius_of_earth = 6371000"
   ]
  },
  {
   "cell_type": "code",
   "execution_count": 21,
   "metadata": {},
   "outputs": [],
   "source": [
    "# Now we compute the angle (in radians) and the distance (in meters) to the point at which \n",
    "# the object start to disappear behind the horizon\n",
    "disappearing_angle = acos(radius_of_earth / (radius_of_earth+height_of_observer))\n",
    "disappearing_distance = disappearing_angle * radius_of_earth"
   ]
  },
  {
   "cell_type": "code",
   "execution_count": 22,
   "metadata": {},
   "outputs": [
    {
     "name": "stdout",
     "output_type": "stream",
     "text": [
      "The bottom 0.43186861649155617 metres are not visible\n"
     ]
    }
   ],
   "source": [
    "if disappearing_distance > distance_to_object:\n",
    "    print('The object is completely visible')\n",
    "else:\n",
    "    distance_beyond_horizon = distance_to_object - disappearing_distance\n",
    "    angle_beyond_horizon = distance_beyond_horizon / radius_of_earth\n",
    "    height_beyond_horizon = (radius_of_earth / cos(angle_beyond_horizon)) - radius_of_earth\n",
    "    print(f'The bottom {height_beyond_horizon} metres are not visible')"
   ]
  },
  {
   "cell_type": "code",
   "execution_count": null,
   "metadata": {},
   "outputs": [],
   "source": []
  }
 ],
 "metadata": {
  "kernelspec": {
   "display_name": "Python 3",
   "language": "python",
   "name": "python3"
  },
  "language_info": {
   "codemirror_mode": {
    "name": "ipython",
    "version": 3
   },
   "file_extension": ".py",
   "mimetype": "text/x-python",
   "name": "python",
   "nbconvert_exporter": "python",
   "pygments_lexer": "ipython3",
   "version": "3.6.7"
  }
 },
 "nbformat": 4,
 "nbformat_minor": 4
}
